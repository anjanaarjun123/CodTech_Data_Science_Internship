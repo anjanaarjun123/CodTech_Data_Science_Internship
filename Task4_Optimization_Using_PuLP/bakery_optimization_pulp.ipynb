{
  "nbformat": 4,
  "nbformat_minor": 0,
  "metadata": {
    "colab": {
      "provenance": []
    },
    "kernelspec": {
      "name": "python3",
      "display_name": "Python 3"
    },
    "language_info": {
      "name": "python"
    }
  },
  "cells": [
    {
      "cell_type": "code",
      "source": [
        "!pip install pulp\n",
        "\n",
        "from pulp import *\n",
        "# Define problem\n",
        "prob = LpProblem(\"Bakery_Profit_Maximization\", LpMaximize)\n",
        "\n",
        "# Define variables\n",
        "cake = LpVariable(\"Cake\", lowBound=0, cat='Integer')\n",
        "bread = LpVariable(\"Bread\", lowBound=0, cat='Integer')\n",
        "\n",
        "# Objective function\n",
        "prob += 200 * cake + 100 * bread, \"Total Profit\"\n",
        "\n",
        "# Constraints\n",
        "prob += 2 * cake + 1 * bread <= 40  # Time constraint\n",
        "\n",
        "# Solve\n",
        "prob.solve()\n",
        "\n",
        "# Output\n",
        "print(\"Optimal number of cakes:\", cake.varValue)\n",
        "print(\"Optimal number of breads:\", bread.varValue)\n",
        "print(\"Maximum Profit: ₹\", value(prob.objective))\n"
      ],
      "metadata": {
        "id": "qQu15fhoUn7b",
        "colab": {
          "base_uri": "https://localhost:8080/"
        },
        "outputId": "1f31b86c-edad-485f-fc95-9d72b3b31577"
      },
      "execution_count": 5,
      "outputs": [
        {
          "output_type": "stream",
          "name": "stdout",
          "text": [
            "Requirement already satisfied: pulp in /usr/local/lib/python3.11/dist-packages (3.2.2)\n",
            "Optimal number of cakes: 0.0\n",
            "Optimal number of breads: 40.0\n",
            "Maximum Profit: ₹ 4000.0\n"
          ]
        }
      ]
    },
    {
      "cell_type": "code",
      "source": [],
      "metadata": {
        "id": "oH1G61Gy_8i5"
      },
      "execution_count": null,
      "outputs": []
    }
  ]
}